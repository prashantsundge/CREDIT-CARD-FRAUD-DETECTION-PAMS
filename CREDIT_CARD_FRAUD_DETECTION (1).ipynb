{
  "nbformat": 4,
  "nbformat_minor": 0,
  "metadata": {
    "colab": {
      "provenance": []
    },
    "kernelspec": {
      "name": "python3",
      "display_name": "Python 3"
    },
    "language_info": {
      "name": "python"
    }
  },
  "cells": [
    {
      "cell_type": "markdown",
      "source": [
        "# IMPORT LIBRARIES"
      ],
      "metadata": {
        "id": "73TG2p-E6r3g"
      }
    },
    {
      "cell_type": "markdown",
      "source": [
        "### INSTALL OPENDATASETS MODULE TO FETCH KAGGLE DATASET"
      ],
      "metadata": {
        "id": "qlkYAoav5ws1"
      }
    },
    {
      "cell_type": "code",
      "source": [
        "pip install opendatasets -q\n"
      ],
      "metadata": {
        "id": "peRGIf0m2i2e"
      },
      "execution_count": 2,
      "outputs": []
    },
    {
      "cell_type": "code",
      "execution_count": 48,
      "metadata": {
        "id": "VaxWiQfIzbXU"
      },
      "outputs": [],
      "source": [
        "\n",
        "import opendatasets as od\n",
        "import os\n",
        "import pandas as pd\n",
        "import numpy as np\n",
        "import matplotlib.pyplot as plt\n",
        "import seaborn as sns\n",
        "%matplotlib inline\n",
        "pd.set_option('display.max_columns', None)\n",
        "\n",
        "#MODEL SELECTIONS\n",
        "from sklearn.model_selection import train_test_split\n",
        "from sklearn.linear_model import LogisticRegression\n",
        "from sklearn.metrics import classification_report, confusion_matrix, accuracy_score\n",
        "from sklearn.preprocessing import StandardScaler\n",
        "from sklearn.neighbors import KNeighborsClassifier\n",
        "#Thresholds\n",
        "from sklearn.metrics import roc_auc_score\n",
        "from sklearn.metrics import roc_curve\n"
      ]
    },
    {
      "cell_type": "markdown",
      "source": [
        "# LOAD DATA"
      ],
      "metadata": {
        "id": "erXBW4OD63Ax"
      }
    },
    {
      "cell_type": "markdown",
      "source": [
        "# Retrieving Dataset from Kaggle Portal"
      ],
      "metadata": {
        "id": "8YJaPShQ3LUN"
      }
    },
    {
      "cell_type": "markdown",
      "source": [
        "- The dataset is 150 MB, making it infeasible to upload on GitHub or access locally.\n",
        "- To overcome this, we are fetching the dataset from the Kaggle portal.\n",
        "- Initially, the `opendatasets` library was not installed.\n",
        "- Installed the `opendatasets` library using the following pip command:\n"
      ],
      "metadata": {
        "id": "pU-us3El2pXk"
      }
    },
    {
      "cell_type": "code",
      "source": [
        "od.version()"
      ],
      "metadata": {
        "colab": {
          "base_uri": "https://localhost:8080/",
          "height": 35
        },
        "id": "bKi8nnMe3VGk",
        "outputId": "66478534-226c-4850-f166-20cfb3f44064"
      },
      "execution_count": 4,
      "outputs": [
        {
          "output_type": "execute_result",
          "data": {
            "text/plain": [
              "'0.1.22'"
            ],
            "application/vnd.google.colaboratory.intrinsic+json": {
              "type": "string"
            }
          },
          "metadata": {},
          "execution_count": 4
        }
      ]
    },
    {
      "cell_type": "code",
      "source": [
        "dataset_url=\"https://www.kaggle.com/datasets/mlg-ulb/creditcardfraud/data\""
      ],
      "metadata": {
        "id": "xc__GZi03hBg"
      },
      "execution_count": 5,
      "outputs": []
    },
    {
      "cell_type": "markdown",
      "source": [
        "### od.download(dataset_url)\n",
        "\n",
        "  - this will ask you kaggle username and kaggle unique key\n",
        "  - to get that goto kaggle portal and sign in\n",
        "  - then click on your kaggle profile photo and go to settings\n",
        "  - there see API and click on Create new token\n",
        "  - one JSON file will download with your username and tokan number\n",
        "  - insert that one by one after executing od.download"
      ],
      "metadata": {
        "id": "ImGzhK6D5_VW"
      }
    },
    {
      "cell_type": "code",
      "source": [
        "od.download(dataset_url)"
      ],
      "metadata": {
        "colab": {
          "base_uri": "https://localhost:8080/",
          "height": 0
        },
        "id": "1NHktWid3rA8",
        "outputId": "127ca733-3131-4b64-a170-587527fa346f"
      },
      "execution_count": 6,
      "outputs": [
        {
          "output_type": "stream",
          "name": "stdout",
          "text": [
            "Please provide your Kaggle credentials to download this dataset. Learn more: http://bit.ly/kaggle-creds\n",
            "Your Kaggle username: prashantkumarsundge\n",
            "Your Kaggle Key: ··········\n",
            "Downloading creditcardfraud.zip to ./creditcardfraud\n"
          ]
        },
        {
          "output_type": "stream",
          "name": "stderr",
          "text": [
            "100%|██████████| 66.0M/66.0M [00:00<00:00, 121MB/s]\n"
          ]
        },
        {
          "output_type": "stream",
          "name": "stdout",
          "text": [
            "\n"
          ]
        }
      ]
    },
    {
      "cell_type": "code",
      "source": [
        "data_dir=\"creditcardfraud\""
      ],
      "metadata": {
        "id": "ygKRZFbb4Jsu"
      },
      "execution_count": 7,
      "outputs": []
    },
    {
      "cell_type": "code",
      "source": [
        "os.listdir(data_dir)"
      ],
      "metadata": {
        "colab": {
          "base_uri": "https://localhost:8080/",
          "height": 0
        },
        "id": "ra3Uk0Gb4QSG",
        "outputId": "d12a6db7-8a3c-4b00-8a0b-4faeb2085f41"
      },
      "execution_count": 8,
      "outputs": [
        {
          "output_type": "execute_result",
          "data": {
            "text/plain": [
              "['creditcard.csv']"
            ]
          },
          "metadata": {},
          "execution_count": 8
        }
      ]
    },
    {
      "cell_type": "code",
      "source": [
        "creditcard=data_dir + '/creditcard.csv'\n",
        "data=pd.read_csv(creditcard)"
      ],
      "metadata": {
        "id": "baeW8e864VxQ"
      },
      "execution_count": 9,
      "outputs": []
    },
    {
      "cell_type": "code",
      "source": [
        "data.head()"
      ],
      "metadata": {
        "colab": {
          "base_uri": "https://localhost:8080/",
          "height": 226
        },
        "id": "xc1JG5vN4z7z",
        "outputId": "2dbcb6f9-28b9-4639-d11e-070976cd013c"
      },
      "execution_count": 10,
      "outputs": [
        {
          "output_type": "execute_result",
          "data": {
            "text/plain": [
              "   Time        V1        V2        V3        V4        V5        V6        V7  \\\n",
              "0   0.0 -1.359807 -0.072781  2.536347  1.378155 -0.338321  0.462388  0.239599   \n",
              "1   0.0  1.191857  0.266151  0.166480  0.448154  0.060018 -0.082361 -0.078803   \n",
              "2   1.0 -1.358354 -1.340163  1.773209  0.379780 -0.503198  1.800499  0.791461   \n",
              "3   1.0 -0.966272 -0.185226  1.792993 -0.863291 -0.010309  1.247203  0.237609   \n",
              "4   2.0 -1.158233  0.877737  1.548718  0.403034 -0.407193  0.095921  0.592941   \n",
              "\n",
              "         V8        V9       V10       V11       V12       V13       V14  \\\n",
              "0  0.098698  0.363787  0.090794 -0.551600 -0.617801 -0.991390 -0.311169   \n",
              "1  0.085102 -0.255425 -0.166974  1.612727  1.065235  0.489095 -0.143772   \n",
              "2  0.247676 -1.514654  0.207643  0.624501  0.066084  0.717293 -0.165946   \n",
              "3  0.377436 -1.387024 -0.054952 -0.226487  0.178228  0.507757 -0.287924   \n",
              "4 -0.270533  0.817739  0.753074 -0.822843  0.538196  1.345852 -1.119670   \n",
              "\n",
              "        V15       V16       V17       V18       V19       V20       V21  \\\n",
              "0  1.468177 -0.470401  0.207971  0.025791  0.403993  0.251412 -0.018307   \n",
              "1  0.635558  0.463917 -0.114805 -0.183361 -0.145783 -0.069083 -0.225775   \n",
              "2  2.345865 -2.890083  1.109969 -0.121359 -2.261857  0.524980  0.247998   \n",
              "3 -0.631418 -1.059647 -0.684093  1.965775 -1.232622 -0.208038 -0.108300   \n",
              "4  0.175121 -0.451449 -0.237033 -0.038195  0.803487  0.408542 -0.009431   \n",
              "\n",
              "        V22       V23       V24       V25       V26       V27       V28  \\\n",
              "0  0.277838 -0.110474  0.066928  0.128539 -0.189115  0.133558 -0.021053   \n",
              "1 -0.638672  0.101288 -0.339846  0.167170  0.125895 -0.008983  0.014724   \n",
              "2  0.771679  0.909412 -0.689281 -0.327642 -0.139097 -0.055353 -0.059752   \n",
              "3  0.005274 -0.190321 -1.175575  0.647376 -0.221929  0.062723  0.061458   \n",
              "4  0.798278 -0.137458  0.141267 -0.206010  0.502292  0.219422  0.215153   \n",
              "\n",
              "   Amount  Class  \n",
              "0  149.62      0  \n",
              "1    2.69      0  \n",
              "2  378.66      0  \n",
              "3  123.50      0  \n",
              "4   69.99      0  "
            ],
            "text/html": [
              "\n",
              "  <div id=\"df-bffb050f-3644-49ac-bd4b-a9c5b014f2f9\" class=\"colab-df-container\">\n",
              "    <div>\n",
              "<style scoped>\n",
              "    .dataframe tbody tr th:only-of-type {\n",
              "        vertical-align: middle;\n",
              "    }\n",
              "\n",
              "    .dataframe tbody tr th {\n",
              "        vertical-align: top;\n",
              "    }\n",
              "\n",
              "    .dataframe thead th {\n",
              "        text-align: right;\n",
              "    }\n",
              "</style>\n",
              "<table border=\"1\" class=\"dataframe\">\n",
              "  <thead>\n",
              "    <tr style=\"text-align: right;\">\n",
              "      <th></th>\n",
              "      <th>Time</th>\n",
              "      <th>V1</th>\n",
              "      <th>V2</th>\n",
              "      <th>V3</th>\n",
              "      <th>V4</th>\n",
              "      <th>V5</th>\n",
              "      <th>V6</th>\n",
              "      <th>V7</th>\n",
              "      <th>V8</th>\n",
              "      <th>V9</th>\n",
              "      <th>V10</th>\n",
              "      <th>V11</th>\n",
              "      <th>V12</th>\n",
              "      <th>V13</th>\n",
              "      <th>V14</th>\n",
              "      <th>V15</th>\n",
              "      <th>V16</th>\n",
              "      <th>V17</th>\n",
              "      <th>V18</th>\n",
              "      <th>V19</th>\n",
              "      <th>V20</th>\n",
              "      <th>V21</th>\n",
              "      <th>V22</th>\n",
              "      <th>V23</th>\n",
              "      <th>V24</th>\n",
              "      <th>V25</th>\n",
              "      <th>V26</th>\n",
              "      <th>V27</th>\n",
              "      <th>V28</th>\n",
              "      <th>Amount</th>\n",
              "      <th>Class</th>\n",
              "    </tr>\n",
              "  </thead>\n",
              "  <tbody>\n",
              "    <tr>\n",
              "      <th>0</th>\n",
              "      <td>0.0</td>\n",
              "      <td>-1.359807</td>\n",
              "      <td>-0.072781</td>\n",
              "      <td>2.536347</td>\n",
              "      <td>1.378155</td>\n",
              "      <td>-0.338321</td>\n",
              "      <td>0.462388</td>\n",
              "      <td>0.239599</td>\n",
              "      <td>0.098698</td>\n",
              "      <td>0.363787</td>\n",
              "      <td>0.090794</td>\n",
              "      <td>-0.551600</td>\n",
              "      <td>-0.617801</td>\n",
              "      <td>-0.991390</td>\n",
              "      <td>-0.311169</td>\n",
              "      <td>1.468177</td>\n",
              "      <td>-0.470401</td>\n",
              "      <td>0.207971</td>\n",
              "      <td>0.025791</td>\n",
              "      <td>0.403993</td>\n",
              "      <td>0.251412</td>\n",
              "      <td>-0.018307</td>\n",
              "      <td>0.277838</td>\n",
              "      <td>-0.110474</td>\n",
              "      <td>0.066928</td>\n",
              "      <td>0.128539</td>\n",
              "      <td>-0.189115</td>\n",
              "      <td>0.133558</td>\n",
              "      <td>-0.021053</td>\n",
              "      <td>149.62</td>\n",
              "      <td>0</td>\n",
              "    </tr>\n",
              "    <tr>\n",
              "      <th>1</th>\n",
              "      <td>0.0</td>\n",
              "      <td>1.191857</td>\n",
              "      <td>0.266151</td>\n",
              "      <td>0.166480</td>\n",
              "      <td>0.448154</td>\n",
              "      <td>0.060018</td>\n",
              "      <td>-0.082361</td>\n",
              "      <td>-0.078803</td>\n",
              "      <td>0.085102</td>\n",
              "      <td>-0.255425</td>\n",
              "      <td>-0.166974</td>\n",
              "      <td>1.612727</td>\n",
              "      <td>1.065235</td>\n",
              "      <td>0.489095</td>\n",
              "      <td>-0.143772</td>\n",
              "      <td>0.635558</td>\n",
              "      <td>0.463917</td>\n",
              "      <td>-0.114805</td>\n",
              "      <td>-0.183361</td>\n",
              "      <td>-0.145783</td>\n",
              "      <td>-0.069083</td>\n",
              "      <td>-0.225775</td>\n",
              "      <td>-0.638672</td>\n",
              "      <td>0.101288</td>\n",
              "      <td>-0.339846</td>\n",
              "      <td>0.167170</td>\n",
              "      <td>0.125895</td>\n",
              "      <td>-0.008983</td>\n",
              "      <td>0.014724</td>\n",
              "      <td>2.69</td>\n",
              "      <td>0</td>\n",
              "    </tr>\n",
              "    <tr>\n",
              "      <th>2</th>\n",
              "      <td>1.0</td>\n",
              "      <td>-1.358354</td>\n",
              "      <td>-1.340163</td>\n",
              "      <td>1.773209</td>\n",
              "      <td>0.379780</td>\n",
              "      <td>-0.503198</td>\n",
              "      <td>1.800499</td>\n",
              "      <td>0.791461</td>\n",
              "      <td>0.247676</td>\n",
              "      <td>-1.514654</td>\n",
              "      <td>0.207643</td>\n",
              "      <td>0.624501</td>\n",
              "      <td>0.066084</td>\n",
              "      <td>0.717293</td>\n",
              "      <td>-0.165946</td>\n",
              "      <td>2.345865</td>\n",
              "      <td>-2.890083</td>\n",
              "      <td>1.109969</td>\n",
              "      <td>-0.121359</td>\n",
              "      <td>-2.261857</td>\n",
              "      <td>0.524980</td>\n",
              "      <td>0.247998</td>\n",
              "      <td>0.771679</td>\n",
              "      <td>0.909412</td>\n",
              "      <td>-0.689281</td>\n",
              "      <td>-0.327642</td>\n",
              "      <td>-0.139097</td>\n",
              "      <td>-0.055353</td>\n",
              "      <td>-0.059752</td>\n",
              "      <td>378.66</td>\n",
              "      <td>0</td>\n",
              "    </tr>\n",
              "    <tr>\n",
              "      <th>3</th>\n",
              "      <td>1.0</td>\n",
              "      <td>-0.966272</td>\n",
              "      <td>-0.185226</td>\n",
              "      <td>1.792993</td>\n",
              "      <td>-0.863291</td>\n",
              "      <td>-0.010309</td>\n",
              "      <td>1.247203</td>\n",
              "      <td>0.237609</td>\n",
              "      <td>0.377436</td>\n",
              "      <td>-1.387024</td>\n",
              "      <td>-0.054952</td>\n",
              "      <td>-0.226487</td>\n",
              "      <td>0.178228</td>\n",
              "      <td>0.507757</td>\n",
              "      <td>-0.287924</td>\n",
              "      <td>-0.631418</td>\n",
              "      <td>-1.059647</td>\n",
              "      <td>-0.684093</td>\n",
              "      <td>1.965775</td>\n",
              "      <td>-1.232622</td>\n",
              "      <td>-0.208038</td>\n",
              "      <td>-0.108300</td>\n",
              "      <td>0.005274</td>\n",
              "      <td>-0.190321</td>\n",
              "      <td>-1.175575</td>\n",
              "      <td>0.647376</td>\n",
              "      <td>-0.221929</td>\n",
              "      <td>0.062723</td>\n",
              "      <td>0.061458</td>\n",
              "      <td>123.50</td>\n",
              "      <td>0</td>\n",
              "    </tr>\n",
              "    <tr>\n",
              "      <th>4</th>\n",
              "      <td>2.0</td>\n",
              "      <td>-1.158233</td>\n",
              "      <td>0.877737</td>\n",
              "      <td>1.548718</td>\n",
              "      <td>0.403034</td>\n",
              "      <td>-0.407193</td>\n",
              "      <td>0.095921</td>\n",
              "      <td>0.592941</td>\n",
              "      <td>-0.270533</td>\n",
              "      <td>0.817739</td>\n",
              "      <td>0.753074</td>\n",
              "      <td>-0.822843</td>\n",
              "      <td>0.538196</td>\n",
              "      <td>1.345852</td>\n",
              "      <td>-1.119670</td>\n",
              "      <td>0.175121</td>\n",
              "      <td>-0.451449</td>\n",
              "      <td>-0.237033</td>\n",
              "      <td>-0.038195</td>\n",
              "      <td>0.803487</td>\n",
              "      <td>0.408542</td>\n",
              "      <td>-0.009431</td>\n",
              "      <td>0.798278</td>\n",
              "      <td>-0.137458</td>\n",
              "      <td>0.141267</td>\n",
              "      <td>-0.206010</td>\n",
              "      <td>0.502292</td>\n",
              "      <td>0.219422</td>\n",
              "      <td>0.215153</td>\n",
              "      <td>69.99</td>\n",
              "      <td>0</td>\n",
              "    </tr>\n",
              "  </tbody>\n",
              "</table>\n",
              "</div>\n",
              "    <div class=\"colab-df-buttons\">\n",
              "\n",
              "  <div class=\"colab-df-container\">\n",
              "    <button class=\"colab-df-convert\" onclick=\"convertToInteractive('df-bffb050f-3644-49ac-bd4b-a9c5b014f2f9')\"\n",
              "            title=\"Convert this dataframe to an interactive table.\"\n",
              "            style=\"display:none;\">\n",
              "\n",
              "  <svg xmlns=\"http://www.w3.org/2000/svg\" height=\"24px\" viewBox=\"0 -960 960 960\">\n",
              "    <path d=\"M120-120v-720h720v720H120Zm60-500h600v-160H180v160Zm220 220h160v-160H400v160Zm0 220h160v-160H400v160ZM180-400h160v-160H180v160Zm440 0h160v-160H620v160ZM180-180h160v-160H180v160Zm440 0h160v-160H620v160Z\"/>\n",
              "  </svg>\n",
              "    </button>\n",
              "\n",
              "  <style>\n",
              "    .colab-df-container {\n",
              "      display:flex;\n",
              "      gap: 12px;\n",
              "    }\n",
              "\n",
              "    .colab-df-convert {\n",
              "      background-color: #E8F0FE;\n",
              "      border: none;\n",
              "      border-radius: 50%;\n",
              "      cursor: pointer;\n",
              "      display: none;\n",
              "      fill: #1967D2;\n",
              "      height: 32px;\n",
              "      padding: 0 0 0 0;\n",
              "      width: 32px;\n",
              "    }\n",
              "\n",
              "    .colab-df-convert:hover {\n",
              "      background-color: #E2EBFA;\n",
              "      box-shadow: 0px 1px 2px rgba(60, 64, 67, 0.3), 0px 1px 3px 1px rgba(60, 64, 67, 0.15);\n",
              "      fill: #174EA6;\n",
              "    }\n",
              "\n",
              "    .colab-df-buttons div {\n",
              "      margin-bottom: 4px;\n",
              "    }\n",
              "\n",
              "    [theme=dark] .colab-df-convert {\n",
              "      background-color: #3B4455;\n",
              "      fill: #D2E3FC;\n",
              "    }\n",
              "\n",
              "    [theme=dark] .colab-df-convert:hover {\n",
              "      background-color: #434B5C;\n",
              "      box-shadow: 0px 1px 3px 1px rgba(0, 0, 0, 0.15);\n",
              "      filter: drop-shadow(0px 1px 2px rgba(0, 0, 0, 0.3));\n",
              "      fill: #FFFFFF;\n",
              "    }\n",
              "  </style>\n",
              "\n",
              "    <script>\n",
              "      const buttonEl =\n",
              "        document.querySelector('#df-bffb050f-3644-49ac-bd4b-a9c5b014f2f9 button.colab-df-convert');\n",
              "      buttonEl.style.display =\n",
              "        google.colab.kernel.accessAllowed ? 'block' : 'none';\n",
              "\n",
              "      async function convertToInteractive(key) {\n",
              "        const element = document.querySelector('#df-bffb050f-3644-49ac-bd4b-a9c5b014f2f9');\n",
              "        const dataTable =\n",
              "          await google.colab.kernel.invokeFunction('convertToInteractive',\n",
              "                                                    [key], {});\n",
              "        if (!dataTable) return;\n",
              "\n",
              "        const docLinkHtml = 'Like what you see? Visit the ' +\n",
              "          '<a target=\"_blank\" href=https://colab.research.google.com/notebooks/data_table.ipynb>data table notebook</a>'\n",
              "          + ' to learn more about interactive tables.';\n",
              "        element.innerHTML = '';\n",
              "        dataTable['output_type'] = 'display_data';\n",
              "        await google.colab.output.renderOutput(dataTable, element);\n",
              "        const docLink = document.createElement('div');\n",
              "        docLink.innerHTML = docLinkHtml;\n",
              "        element.appendChild(docLink);\n",
              "      }\n",
              "    </script>\n",
              "  </div>\n",
              "\n",
              "\n",
              "<div id=\"df-66aa22f8-e57c-49b9-8693-06980e634ea8\">\n",
              "  <button class=\"colab-df-quickchart\" onclick=\"quickchart('df-66aa22f8-e57c-49b9-8693-06980e634ea8')\"\n",
              "            title=\"Suggest charts\"\n",
              "            style=\"display:none;\">\n",
              "\n",
              "<svg xmlns=\"http://www.w3.org/2000/svg\" height=\"24px\"viewBox=\"0 0 24 24\"\n",
              "     width=\"24px\">\n",
              "    <g>\n",
              "        <path d=\"M19 3H5c-1.1 0-2 .9-2 2v14c0 1.1.9 2 2 2h14c1.1 0 2-.9 2-2V5c0-1.1-.9-2-2-2zM9 17H7v-7h2v7zm4 0h-2V7h2v10zm4 0h-2v-4h2v4z\"/>\n",
              "    </g>\n",
              "</svg>\n",
              "  </button>\n",
              "\n",
              "<style>\n",
              "  .colab-df-quickchart {\n",
              "      --bg-color: #E8F0FE;\n",
              "      --fill-color: #1967D2;\n",
              "      --hover-bg-color: #E2EBFA;\n",
              "      --hover-fill-color: #174EA6;\n",
              "      --disabled-fill-color: #AAA;\n",
              "      --disabled-bg-color: #DDD;\n",
              "  }\n",
              "\n",
              "  [theme=dark] .colab-df-quickchart {\n",
              "      --bg-color: #3B4455;\n",
              "      --fill-color: #D2E3FC;\n",
              "      --hover-bg-color: #434B5C;\n",
              "      --hover-fill-color: #FFFFFF;\n",
              "      --disabled-bg-color: #3B4455;\n",
              "      --disabled-fill-color: #666;\n",
              "  }\n",
              "\n",
              "  .colab-df-quickchart {\n",
              "    background-color: var(--bg-color);\n",
              "    border: none;\n",
              "    border-radius: 50%;\n",
              "    cursor: pointer;\n",
              "    display: none;\n",
              "    fill: var(--fill-color);\n",
              "    height: 32px;\n",
              "    padding: 0;\n",
              "    width: 32px;\n",
              "  }\n",
              "\n",
              "  .colab-df-quickchart:hover {\n",
              "    background-color: var(--hover-bg-color);\n",
              "    box-shadow: 0 1px 2px rgba(60, 64, 67, 0.3), 0 1px 3px 1px rgba(60, 64, 67, 0.15);\n",
              "    fill: var(--button-hover-fill-color);\n",
              "  }\n",
              "\n",
              "  .colab-df-quickchart-complete:disabled,\n",
              "  .colab-df-quickchart-complete:disabled:hover {\n",
              "    background-color: var(--disabled-bg-color);\n",
              "    fill: var(--disabled-fill-color);\n",
              "    box-shadow: none;\n",
              "  }\n",
              "\n",
              "  .colab-df-spinner {\n",
              "    border: 2px solid var(--fill-color);\n",
              "    border-color: transparent;\n",
              "    border-bottom-color: var(--fill-color);\n",
              "    animation:\n",
              "      spin 1s steps(1) infinite;\n",
              "  }\n",
              "\n",
              "  @keyframes spin {\n",
              "    0% {\n",
              "      border-color: transparent;\n",
              "      border-bottom-color: var(--fill-color);\n",
              "      border-left-color: var(--fill-color);\n",
              "    }\n",
              "    20% {\n",
              "      border-color: transparent;\n",
              "      border-left-color: var(--fill-color);\n",
              "      border-top-color: var(--fill-color);\n",
              "    }\n",
              "    30% {\n",
              "      border-color: transparent;\n",
              "      border-left-color: var(--fill-color);\n",
              "      border-top-color: var(--fill-color);\n",
              "      border-right-color: var(--fill-color);\n",
              "    }\n",
              "    40% {\n",
              "      border-color: transparent;\n",
              "      border-right-color: var(--fill-color);\n",
              "      border-top-color: var(--fill-color);\n",
              "    }\n",
              "    60% {\n",
              "      border-color: transparent;\n",
              "      border-right-color: var(--fill-color);\n",
              "    }\n",
              "    80% {\n",
              "      border-color: transparent;\n",
              "      border-right-color: var(--fill-color);\n",
              "      border-bottom-color: var(--fill-color);\n",
              "    }\n",
              "    90% {\n",
              "      border-color: transparent;\n",
              "      border-bottom-color: var(--fill-color);\n",
              "    }\n",
              "  }\n",
              "</style>\n",
              "\n",
              "  <script>\n",
              "    async function quickchart(key) {\n",
              "      const quickchartButtonEl =\n",
              "        document.querySelector('#' + key + ' button');\n",
              "      quickchartButtonEl.disabled = true;  // To prevent multiple clicks.\n",
              "      quickchartButtonEl.classList.add('colab-df-spinner');\n",
              "      try {\n",
              "        const charts = await google.colab.kernel.invokeFunction(\n",
              "            'suggestCharts', [key], {});\n",
              "      } catch (error) {\n",
              "        console.error('Error during call to suggestCharts:', error);\n",
              "      }\n",
              "      quickchartButtonEl.classList.remove('colab-df-spinner');\n",
              "      quickchartButtonEl.classList.add('colab-df-quickchart-complete');\n",
              "    }\n",
              "    (() => {\n",
              "      let quickchartButtonEl =\n",
              "        document.querySelector('#df-66aa22f8-e57c-49b9-8693-06980e634ea8 button');\n",
              "      quickchartButtonEl.style.display =\n",
              "        google.colab.kernel.accessAllowed ? 'block' : 'none';\n",
              "    })();\n",
              "  </script>\n",
              "</div>\n",
              "    </div>\n",
              "  </div>\n"
            ]
          },
          "metadata": {},
          "execution_count": 10
        }
      ]
    },
    {
      "cell_type": "markdown",
      "source": [
        "# About the Dataset\n",
        "\n",
        "## Context\n",
        "Credit card companies aim to detect fraudulent transactions to prevent customers from being charged for unauthorized purchases.\n",
        "\n",
        "## Content\n",
        "The dataset comprises credit card transactions made by European cardholders in September 2013. It covers two days, featuring 492 frauds out of 284,807 transactions. Notably, the dataset is highly unbalanced, with fraudulent transactions accounting for only 0.172% of all transactions.\n",
        "\n",
        "This dataset exclusively includes numerical input variables resulting from a PCA transformation. Due to confidentiality constraints, the original features and additional background information aren't provided. The features V1 through V28 represent principal components obtained via PCA. However, 'Time' and 'Amount' are the only features not subjected to PCA.\n",
        "- 'Time' indicates the seconds elapsed between each transaction and the first recorded transaction.\n",
        "- 'Amount' signifies the transaction amount, potentially useful for example-dependent cost-sensitive learning.\n",
        "- 'Class' represents the response variable, assuming a value of 1 for fraud and 0 otherwise.\n",
        "\n",
        "Considering the class imbalance ratio, it's advisable to evaluate accuracy using the Area Under the Precision-Recall Curve (AUPRC). Note that accuracy metrics derived from a confusion matrix may not hold significance for unbalanced classification problems.\n"
      ],
      "metadata": {
        "id": "_dL5B-qM1JMg"
      }
    },
    {
      "cell_type": "markdown",
      "source": [
        "## Rough Notes\n",
        "  - Time, Amount and Class data are in normal format\n",
        "  - remain data is in v1 v2 like variable names given for columns to hide the identity\n",
        "  - from the observation  and given context about dataset are mentioned that dataset is applied PCA transformation\n",
        "## Understanding from dataset\n",
        "  - It covers two days, featuring **492 frauds out of 284,807 transactions**. Notably, the dataset is highly **unbalanced**\n",
        "  - This dataset exclusively includes numerical input variables resulting from a PCA transformation. Due to confidentiality constraints\n",
        "  - 'Class' represents the response variable, assuming a value of 1 for fraud and 0 otherwise.\n",
        "  - will google it, potentially useful for example-dependent cost-sensitive learning\n",
        "  - Considering the class imbalance ratio, it's advisable to evaluate accuracy using the Area Under the Precision-Recall Curve (AUPRC)"
      ],
      "metadata": {
        "id": "IvSf3sV-5AKK"
      }
    },
    {
      "cell_type": "code",
      "source": [
        "data.info()"
      ],
      "metadata": {
        "colab": {
          "base_uri": "https://localhost:8080/",
          "height": 0
        },
        "id": "0XSa3DM31J3n",
        "outputId": "30b510e5-6a2b-4dab-ef73-6c6beb444710"
      },
      "execution_count": 11,
      "outputs": [
        {
          "output_type": "stream",
          "name": "stdout",
          "text": [
            "<class 'pandas.core.frame.DataFrame'>\n",
            "RangeIndex: 284807 entries, 0 to 284806\n",
            "Data columns (total 31 columns):\n",
            " #   Column  Non-Null Count   Dtype  \n",
            "---  ------  --------------   -----  \n",
            " 0   Time    284807 non-null  float64\n",
            " 1   V1      284807 non-null  float64\n",
            " 2   V2      284807 non-null  float64\n",
            " 3   V3      284807 non-null  float64\n",
            " 4   V4      284807 non-null  float64\n",
            " 5   V5      284807 non-null  float64\n",
            " 6   V6      284807 non-null  float64\n",
            " 7   V7      284807 non-null  float64\n",
            " 8   V8      284807 non-null  float64\n",
            " 9   V9      284807 non-null  float64\n",
            " 10  V10     284807 non-null  float64\n",
            " 11  V11     284807 non-null  float64\n",
            " 12  V12     284807 non-null  float64\n",
            " 13  V13     284807 non-null  float64\n",
            " 14  V14     284807 non-null  float64\n",
            " 15  V15     284807 non-null  float64\n",
            " 16  V16     284807 non-null  float64\n",
            " 17  V17     284807 non-null  float64\n",
            " 18  V18     284807 non-null  float64\n",
            " 19  V19     284807 non-null  float64\n",
            " 20  V20     284807 non-null  float64\n",
            " 21  V21     284807 non-null  float64\n",
            " 22  V22     284807 non-null  float64\n",
            " 23  V23     284807 non-null  float64\n",
            " 24  V24     284807 non-null  float64\n",
            " 25  V25     284807 non-null  float64\n",
            " 26  V26     284807 non-null  float64\n",
            " 27  V27     284807 non-null  float64\n",
            " 28  V28     284807 non-null  float64\n",
            " 29  Amount  284807 non-null  float64\n",
            " 30  Class   284807 non-null  int64  \n",
            "dtypes: float64(30), int64(1)\n",
            "memory usage: 67.4 MB\n"
          ]
        }
      ]
    },
    {
      "cell_type": "markdown",
      "source": [
        "- Data is clean no duplicated no missingvalues etc"
      ],
      "metadata": {
        "id": "MGXIpGwm7hXR"
      }
    },
    {
      "cell_type": "code",
      "source": [
        "data['Class'].value_counts()"
      ],
      "metadata": {
        "colab": {
          "base_uri": "https://localhost:8080/",
          "height": 0
        },
        "id": "PPzkzRq47U0A",
        "outputId": "d3201d31-5148-4f50-9e79-ff6bba43d3f0"
      },
      "execution_count": 12,
      "outputs": [
        {
          "output_type": "execute_result",
          "data": {
            "text/plain": [
              "0    284315\n",
              "1       492\n",
              "Name: Class, dtype: int64"
            ]
          },
          "metadata": {},
          "execution_count": 12
        }
      ]
    },
    {
      "cell_type": "markdown",
      "source": [
        "- as mentioned in the context data is imbalanced\n",
        "- if you see the data is in PCA transformed format so no EDA is required\n",
        "- we will directly load the model and check the score and yes as we know the data is imbalanced so will work after that so understand the differance between before working on Imbalance data and after"
      ],
      "metadata": {
        "id": "e10Ehzc-7yzX"
      }
    },
    {
      "cell_type": "markdown",
      "source": [
        "## DATA IS IMBALANCE\n",
        "### AS IF THE DATA IS IMBALANCE WE CAN USE 2 MOTHEDS EITHER YOU CAN ADD THE THRESHOLD OR YOU CAN RASAMPLING TECHNIQUE"
      ],
      "metadata": {
        "id": "DyaqkfZw6x71"
      }
    },
    {
      "cell_type": "code",
      "source": [
        "sns.histplot(data['Class'])\n",
        "plt.yscale('log')\n",
        "plt.show()"
      ],
      "metadata": {
        "id": "7GCxORyB7ZVg",
        "colab": {
          "base_uri": "https://localhost:8080/",
          "height": 449
        },
        "outputId": "8fd38f42-58de-42c5-d985-b972020a54a5"
      },
      "execution_count": 13,
      "outputs": [
        {
          "output_type": "display_data",
          "data": {
            "text/plain": [
              "<Figure size 640x480 with 1 Axes>"
            ],
            "image/png": "[encoded data removed]"
          },
          "metadata": {}
        }
      ]
    },
    {
      "cell_type": "markdown",
      "source": [
        "- Will understand if legit transaction and fraud transaction how much the amount used"
      ],
      "metadata": {
        "id": "GbFc_BbOWeCA"
      }
    },
    {
      "cell_type": "code",
      "source": [
        "data.groupby('Class')['Amount'].sum()"
      ],
      "metadata": {
        "colab": {
          "base_uri": "https://localhost:8080/",
          "height": 0
        },
        "id": "w3j0jpwUWKVl",
        "outputId": "5e4234b8-b141-4015-c2b4-c5323410b070"
      },
      "execution_count": 14,
      "outputs": [
        {
          "output_type": "execute_result",
          "data": {
            "text/plain": [
              "Class\n",
              "0    25102462.04\n",
              "1       60127.97\n",
              "Name: Amount, dtype: float64"
            ]
          },
          "metadata": {},
          "execution_count": 14
        }
      ]
    },
    {
      "cell_type": "markdown",
      "source": [
        "- We can see fraud AMount is around 60127"
      ],
      "metadata": {
        "id": "4atxtraPYLc-"
      }
    },
    {
      "cell_type": "code",
      "source": [
        "data.head()\n"
      ],
      "metadata": {
        "colab": {
          "base_uri": "https://localhost:8080/",
          "height": 226
        },
        "id": "akWM7erFW1yM",
        "outputId": "424ce37a-ece2-4a60-c948-a83939c84cb2"
      },
      "execution_count": 15,
      "outputs": [
        {
          "output_type": "execute_result",
          "data": {
            "text/plain": [
              "   Time        V1        V2        V3        V4        V5        V6        V7  \\\n",
              "0   0.0 -1.359807 -0.072781  2.536347  1.378155 -0.338321  0.462388  0.239599   \n",
              "1   0.0  1.191857  0.266151  0.166480  0.448154  0.060018 -0.082361 -0.078803   \n",
              "2   1.0 -1.358354 -1.340163  1.773209  0.379780 -0.503198  1.800499  0.791461   \n",
              "3   1.0 -0.966272 -0.185226  1.792993 -0.863291 -0.010309  1.247203  0.237609   \n",
              "4   2.0 -1.158233  0.877737  1.548718  0.403034 -0.407193  0.095921  0.592941   \n",
              "\n",
              "         V8        V9       V10       V11       V12       V13       V14  \\\n",
              "0  0.098698  0.363787  0.090794 -0.551600 -0.617801 -0.991390 -0.311169   \n",
              "1  0.085102 -0.255425 -0.166974  1.612727  1.065235  0.489095 -0.143772   \n",
              "2  0.247676 -1.514654  0.207643  0.624501  0.066084  0.717293 -0.165946   \n",
              "3  0.377436 -1.387024 -0.054952 -0.226487  0.178228  0.507757 -0.287924   \n",
              "4 -0.270533  0.817739  0.753074 -0.822843  0.538196  1.345852 -1.119670   \n",
              "\n",
              "        V15       V16       V17       V18       V19       V20       V21  \\\n",
              "0  1.468177 -0.470401  0.207971  0.025791  0.403993  0.251412 -0.018307   \n",
              "1  0.635558  0.463917 -0.114805 -0.183361 -0.145783 -0.069083 -0.225775   \n",
              "2  2.345865 -2.890083  1.109969 -0.121359 -2.261857  0.524980  0.247998   \n",
              "3 -0.631418 -1.059647 -0.684093  1.965775 -1.232622 -0.208038 -0.108300   \n",
              "4  0.175121 -0.451449 -0.237033 -0.038195  0.803487  0.408542 -0.009431   \n",
              "\n",
              "        V22       V23       V24       V25       V26       V27       V28  \\\n",
              "0  0.277838 -0.110474  0.066928  0.128539 -0.189115  0.133558 -0.021053   \n",
              "1 -0.638672  0.101288 -0.339846  0.167170  0.125895 -0.008983  0.014724   \n",
              "2  0.771679  0.909412 -0.689281 -0.327642 -0.139097 -0.055353 -0.059752   \n",
              "3  0.005274 -0.190321 -1.175575  0.647376 -0.221929  0.062723  0.061458   \n",
              "4  0.798278 -0.137458  0.141267 -0.206010  0.502292  0.219422  0.215153   \n",
              "\n",
              "   Amount  Class  \n",
              "0  149.62      0  \n",
              "1    2.69      0  \n",
              "2  378.66      0  \n",
              "3  123.50      0  \n",
              "4   69.99      0  "
            ],
            "text/html": [
              "\n",
              "  <div id=\"df-34c623ff-6533-448e-8cd5-066f0730eadc\" class=\"colab-df-container\">\n",
              "    <div>\n",
              "<style scoped>\n",
              "    .dataframe tbody tr th:only-of-type {\n",
              "        vertical-align: middle;\n",
              "    }\n",
              "\n",
              "    .dataframe tbody tr th {\n",
              "        vertical-align: top;\n",
              "    }\n",
              "\n",
              "    .dataframe thead th {\n",
              "        text-align: right;\n",
              "    }\n",
              "</style>\n",
              "<table border=\"1\" class=\"dataframe\">\n",
              "  <thead>\n",
              "    <tr style=\"text-align: right;\">\n",
              "      <th></th>\n",
              "      <th>Time</th>\n",
              "      <th>V1</th>\n",
              "      <th>V2</th>\n",
              "      <th>V3</th>\n",
              "      <th>V4</th>\n",
              "      <th>V5</th>\n",
              "      <th>V6</th>\n",
              "      <th>V7</th>\n",
              "      <th>V8</th>\n",
              "      <th>V9</th>\n",
              "      <th>V10</th>\n",
              "      <th>V11</th>\n",
              "      <th>V12</th>\n",
              "      <th>V13</th>\n",
              "      <th>V14</th>\n",
              "      <th>V15</th>\n",
              "      <th>V16</th>\n",
              "      <th>V17</th>\n",
              "      <th>V18</th>\n",
              "      <th>V19</th>\n",
              "      <th>V20</th>\n",
              "      <th>V21</th>\n",
              "      <th>V22</th>\n",
              "      <th>V23</th>\n",
              "      <th>V24</th>\n",
              "      <th>V25</th>\n",
              "      <th>V26</th>\n",
              "      <th>V27</th>\n",
              "      <th>V28</th>\n",
              "      <th>Amount</th>\n",
              "      <th>Class</th>\n",
              "    </tr>\n",
              "  </thead>\n",
              "  <tbody>\n",
              "    <tr>\n",
              "      <th>0</th>\n",
              "      <td>0.0</td>\n",
              "      <td>-1.359807</td>\n",
              "      <td>-0.072781</td>\n",
              "      <td>2.536347</td>\n",
              "      <td>1.378155</td>\n",
              "      <td>-0.338321</td>\n",
              "      <td>0.462388</td>\n",
              "      <td>0.239599</td>\n",
              "      <td>0.098698</td>\n",
              "      <td>0.363787</td>\n",
              "      <td>0.090794</td>\n",
              "      <td>-0.551600</td>\n",
              "      <td>-0.617801</td>\n",
              "      <td>-0.991390</td>\n",
              "      <td>-0.311169</td>\n",
              "      <td>1.468177</td>\n",
              "      <td>-0.470401</td>\n",
              "      <td>0.207971</td>\n",
              "      <td>0.025791</td>\n",
              "      <td>0.403993</td>\n",
              "      <td>0.251412</td>\n",
              "      <td>-0.018307</td>\n",
              "      <td>0.277838</td>\n",
              "      <td>-0.110474</td>\n",
              "      <td>0.066928</td>\n",
              "      <td>0.128539</td>\n",
              "      <td>-0.189115</td>\n",
              "      <td>0.133558</td>\n",
              "      <td>-0.021053</td>\n",
              "      <td>149.62</td>\n",
              "      <td>0</td>\n",
              "    </tr>\n",
              "    <tr>\n",
              "      <th>1</th>\n",
              "      <td>0.0</td>\n",
              "      <td>1.191857</td>\n",
              "      <td>0.266151</td>\n",
              "      <td>0.166480</td>\n",
              "      <td>0.448154</td>\n",
              "      <td>0.060018</td>\n",
              "      <td>-0.082361</td>\n",
              "      <td>-0.078803</td>\n",
              "      <td>0.085102</td>\n",
              "      <td>-0.255425</td>\n",
              "      <td>-0.166974</td>\n",
              "      <td>1.612727</td>\n",
              "      <td>1.065235</td>\n",
              "      <td>0.489095</td>\n",
              "      <td>-0.143772</td>\n",
              "      <td>0.635558</td>\n",
              "      <td>0.463917</td>\n",
              "      <td>-0.114805</td>\n",
              "      <td>-0.183361</td>\n",
              "      <td>-0.145783</td>\n",
              "      <td>-0.069083</td>\n",
              "      <td>-0.225775</td>\n",
              "      <td>-0.638672</td>\n",
              "      <td>0.101288</td>\n",
              "      <td>-0.339846</td>\n",
              "      <td>0.167170</td>\n",
              "      <td>0.125895</td>\n",
              "      <td>-0.008983</td>\n",
              "      <td>0.014724</td>\n",
              "      <td>2.69</td>\n",
              "      <td>0</td>\n",
              "    </tr>\n",
              "    <tr>\n",
              "      <th>2</th>\n",
              "      <td>1.0</td>\n",
              "      <td>-1.358354</td>\n",
              "      <td>-1.340163</td>\n",
              "      <td>1.773209</td>\n",
              "      <td>0.379780</td>\n",
              "      <td>-0.503198</td>\n",
              "      <td>1.800499</td>\n",
              "      <td>0.791461</td>\n",
              "      <td>0.247676</td>\n",
              "      <td>-1.514654</td>\n",
              "      <td>0.207643</td>\n",
              "      <td>0.624501</td>\n",
              "      <td>0.066084</td>\n",
              "      <td>0.717293</td>\n",
              "      <td>-0.165946</td>\n",
              "      <td>2.345865</td>\n",
              "      <td>-2.890083</td>\n",
              "      <td>1.109969</td>\n",
              "      <td>-0.121359</td>\n",
              "      <td>-2.261857</td>\n",
              "      <td>0.524980</td>\n",
              "      <td>0.247998</td>\n",
              "      <td>0.771679</td>\n",
              "      <td>0.909412</td>\n",
              "      <td>-0.689281</td>\n",
              "      <td>-0.327642</td>\n",
              "      <td>-0.139097</td>\n",
              "      <td>-0.055353</td>\n",
              "      <td>-0.059752</td>\n",
              "      <td>378.66</td>\n",
              "      <td>0</td>\n",
              "    </tr>\n",
              "    <tr>\n",
              "      <th>3</th>\n",
              "      <td>1.0</td>\n",
              "      <td>-0.966272</td>\n",
              "      <td>-0.185226</td>\n",
              "      <td>1.792993</td>\n",
              "      <td>-0.863291</td>\n",
              "      <td>-0.010309</td>\n",
              "      <td>1.247203</td>\n",
              "      <td>0.237609</td>\n",
              "      <td>0.377436</td>\n",
              "      <td>-1.387024</td>\n",
              "      <td>-0.054952</td>\n",
              "      <td>-0.226487</td>\n",
              "      <td>0.178228</td>\n",
              "      <td>0.507757</td>\n",
              "      <td>-0.287924</td>\n",
              "      <td>-0.631418</td>\n",
              "      <td>-1.059647</td>\n",
              "      <td>-0.684093</td>\n",
              "      <td>1.965775</td>\n",
              "      <td>-1.232622</td>\n",
              "      <td>-0.208038</td>\n",
              "      <td>-0.108300</td>\n",
              "      <td>0.005274</td>\n",
              "      <td>-0.190321</td>\n",
              "      <td>-1.175575</td>\n",
              "      <td>0.647376</td>\n",
              "      <td>-0.221929</td>\n",
              "      <td>0.062723</td>\n",
              "      <td>0.061458</td>\n",
              "      <td>123.50</td>\n",
              "      <td>0</td>\n",
              "    </tr>\n",
              "    <tr>\n",
              "      <th>4</th>\n",
              "      <td>2.0</td>\n",
              "      <td>-1.158233</td>\n",
              "      <td>0.877737</td>\n",
              "      <td>1.548718</td>\n",
              "      <td>0.403034</td>\n",
              "      <td>-0.407193</td>\n",
              "      <td>0.095921</td>\n",
              "      <td>0.592941</td>\n",
              "      <td>-0.270533</td>\n",
              "      <td>0.817739</td>\n",
              "      <td>0.753074</td>\n",
              "      <td>-0.822843</td>\n",
              "      <td>0.538196</td>\n",
              "      <td>1.345852</td>\n",
              "      <td>-1.119670</td>\n",
              "      <td>0.175121</td>\n",
              "      <td>-0.451449</td>\n",
              "      <td>-0.237033</td>\n",
              "      <td>-0.038195</td>\n",
              "      <td>0.803487</td>\n",
              "      <td>0.408542</td>\n",
              "      <td>-0.009431</td>\n",
              "      <td>0.798278</td>\n",
              "      <td>-0.137458</td>\n",
              "      <td>0.141267</td>\n",
              "      <td>-0.206010</td>\n",
              "      <td>0.502292</td>\n",
              "      <td>0.219422</td>\n",
              "      <td>0.215153</td>\n",
              "      <td>69.99</td>\n",
              "      <td>0</td>\n",
              "    </tr>\n",
              "  </tbody>\n",
              "</table>\n",
              "</div>\n",
              "    <div class=\"colab-df-buttons\">\n",
              "\n",
              "  <div class=\"colab-df-container\">\n",
              "    <button class=\"colab-df-convert\" onclick=\"convertToInteractive('df-34c623ff-6533-448e-8cd5-066f0730eadc')\"\n",
              "            title=\"Convert this dataframe to an interactive table.\"\n",
              "            style=\"display:none;\">\n",
              "\n",
              "  <svg xmlns=\"http://www.w3.org/2000/svg\" height=\"24px\" viewBox=\"0 -960 960 960\">\n",
              "    <path d=\"M120-120v-720h720v720H120Zm60-500h600v-160H180v160Zm220 220h160v-160H400v160Zm0 220h160v-160H400v160ZM180-400h160v-160H180v160Zm440 0h160v-160H620v160ZM180-180h160v-160H180v160Zm440 0h160v-160H620v160Z\"/>\n",
              "  </svg>\n",
              "    </button>\n",
              "\n",
              "  <style>\n",
              "    .colab-df-container {\n",
              "      display:flex;\n",
              "      gap: 12px;\n",
              "    }\n",
              "\n",
              "    .colab-df-convert {\n",
              "      background-color: #E8F0FE;\n",
              "      border: none;\n",
              "      border-radius: 50%;\n",
              "      cursor: pointer;\n",
              "      display: none;\n",
              "      fill: #1967D2;\n",
              "      height: 32px;\n",
              "      padding: 0 0 0 0;\n",
              "      width: 32px;\n",
              "    }\n",
              "\n",
              "    .colab-df-convert:hover {\n",
              "      background-color: #E2EBFA;\n",
              "      box-shadow: 0px 1px 2px rgba(60, 64, 67, 0.3), 0px 1px 3px 1px rgba(60, 64, 67, 0.15);\n",
              "      fill: #174EA6;\n",
              "    }\n",
              "\n",
              "    .colab-df-buttons div {\n",
              "      margin-bottom: 4px;\n",
              "    }\n",
              "\n",
              "    [theme=dark] .colab-df-convert {\n",
              "      background-color: #3B4455;\n",
              "      fill: #D2E3FC;\n",
              "    }\n",
              "\n",
              "    [theme=dark] .colab-df-convert:hover {\n",
              "      background-color: #434B5C;\n",
              "      box-shadow: 0px 1px 3px 1px rgba(0, 0, 0, 0.15);\n",
              "      filter: drop-shadow(0px 1px 2px rgba(0, 0, 0, 0.3));\n",
              "      fill: #FFFFFF;\n",
              "    }\n",
              "  </style>\n",
              "\n",
              "    <script>\n",
              "      const buttonEl =\n",
              "        document.querySelector('#df-34c623ff-6533-448e-8cd5-066f0730eadc button.colab-df-convert');\n",
              "      buttonEl.style.display =\n",
              "        google.colab.kernel.accessAllowed ? 'block' : 'none';\n",
              "\n",
              "      async function convertToInteractive(key) {\n",
              "        const element = document.querySelector('#df-34c623ff-6533-448e-8cd5-066f0730eadc');\n",
              "        const dataTable =\n",
              "          await google.colab.kernel.invokeFunction('convertToInteractive',\n",
              "                                                    [key], {});\n",
              "        if (!dataTable) return;\n",
              "\n",
              "        const docLinkHtml = 'Like what you see? Visit the ' +\n",
              "          '<a target=\"_blank\" href=https://colab.research.google.com/notebooks/data_table.ipynb>data table notebook</a>'\n",
              "          + ' to learn more about interactive tables.';\n",
              "        element.innerHTML = '';\n",
              "        dataTable['output_type'] = 'display_data';\n",
              "        await google.colab.output.renderOutput(dataTable, element);\n",
              "        const docLink = document.createElement('div');\n",
              "        docLink.innerHTML = docLinkHtml;\n",
              "        element.appendChild(docLink);\n",
              "      }\n",
              "    </script>\n",
              "  </div>\n",
              "\n",
              "\n",
              "<div id=\"df-5b9295e4-cfa4-4dbd-b728-2d6a14d256cf\">\n",
              "  <button class=\"colab-df-quickchart\" onclick=\"quickchart('df-5b9295e4-cfa4-4dbd-b728-2d6a14d256cf')\"\n",
              "            title=\"Suggest charts\"\n",
              "            style=\"display:none;\">\n",
              "\n",
              "<svg xmlns=\"http://www.w3.org/2000/svg\" height=\"24px\"viewBox=\"0 0 24 24\"\n",
              "     width=\"24px\">\n",
              "    <g>\n",
              "        <path d=\"M19 3H5c-1.1 0-2 .9-2 2v14c0 1.1.9 2 2 2h14c1.1 0 2-.9 2-2V5c0-1.1-.9-2-2-2zM9 17H7v-7h2v7zm4 0h-2V7h2v10zm4 0h-2v-4h2v4z\"/>\n",
              "    </g>\n",
              "</svg>\n",
              "  </button>\n",
              "\n",
              "<style>\n",
              "  .colab-df-quickchart {\n",
              "      --bg-color: #E8F0FE;\n",
              "      --fill-color: #1967D2;\n",
              "      --hover-bg-color: #E2EBFA;\n",
              "      --hover-fill-color: #174EA6;\n",
              "      --disabled-fill-color: #AAA;\n",
              "      --disabled-bg-color: #DDD;\n",
              "  }\n",
              "\n",
              "  [theme=dark] .colab-df-quickchart {\n",
              "      --bg-color: #3B4455;\n",
              "      --fill-color: #D2E3FC;\n",
              "      --hover-bg-color: #434B5C;\n",
              "      --hover-fill-color: #FFFFFF;\n",
              "      --disabled-bg-color: #3B4455;\n",
              "      --disabled-fill-color: #666;\n",
              "  }\n",
              "\n",
              "  .colab-df-quickchart {\n",
              "    background-color: var(--bg-color);\n",
              "    border: none;\n",
              "    border-radius: 50%;\n",
              "    cursor: pointer;\n",
              "    display: none;\n",
              "    fill: var(--fill-color);\n",
              "    height: 32px;\n",
              "    padding: 0;\n",
              "    width: 32px;\n",
              "  }\n",
              "\n",
              "  .colab-df-quickchart:hover {\n",
              "    background-color: var(--hover-bg-color);\n",
              "    box-shadow: 0 1px 2px rgba(60, 64, 67, 0.3), 0 1px 3px 1px rgba(60, 64, 67, 0.15);\n",
              "    fill: var(--button-hover-fill-color);\n",
              "  }\n",
              "\n",
              "  .colab-df-quickchart-complete:disabled,\n",
              "  .colab-df-quickchart-complete:disabled:hover {\n",
              "    background-color: var(--disabled-bg-color);\n",
              "    fill: var(--disabled-fill-color);\n",
              "    box-shadow: none;\n",
              "  }\n",
              "\n",
              "  .colab-df-spinner {\n",
              "    border: 2px solid var(--fill-color);\n",
              "    border-color: transparent;\n",
              "    border-bottom-color: var(--fill-color);\n",
              "    animation:\n",
              "      spin 1s steps(1) infinite;\n",
              "  }\n",
              "\n",
              "  @keyframes spin {\n",
              "    0% {\n",
              "      border-color: transparent;\n",
              "      border-bottom-color: var(--fill-color);\n",
              "      border-left-color: var(--fill-color);\n",
              "    }\n",
              "    20% {\n",
              "      border-color: transparent;\n",
              "      border-left-color: var(--fill-color);\n",
              "      border-top-color: var(--fill-color);\n",
              "    }\n",
              "    30% {\n",
              "      border-color: transparent;\n",
              "      border-left-color: var(--fill-color);\n",
              "      border-top-color: var(--fill-color);\n",
              "      border-right-color: var(--fill-color);\n",
              "    }\n",
              "    40% {\n",
              "      border-color: transparent;\n",
              "      border-right-color: var(--fill-color);\n",
              "      border-top-color: var(--fill-color);\n",
              "    }\n",
              "    60% {\n",
              "      border-color: transparent;\n",
              "      border-right-color: var(--fill-color);\n",
              "    }\n",
              "    80% {\n",
              "      border-color: transparent;\n",
              "      border-right-color: var(--fill-color);\n",
              "      border-bottom-color: var(--fill-color);\n",
              "    }\n",
              "    90% {\n",
              "      border-color: transparent;\n",
              "      border-bottom-color: var(--fill-color);\n",
              "    }\n",
              "  }\n",
              "</style>\n",
              "\n",
              "  <script>\n",
              "    async function quickchart(key) {\n",
              "      const quickchartButtonEl =\n",
              "        document.querySelector('#' + key + ' button');\n",
              "      quickchartButtonEl.disabled = true;  // To prevent multiple clicks.\n",
              "      quickchartButtonEl.classList.add('colab-df-spinner');\n",
              "      try {\n",
              "        const charts = await google.colab.kernel.invokeFunction(\n",
              "            'suggestCharts', [key], {});\n",
              "      } catch (error) {\n",
              "        console.error('Error during call to suggestCharts:', error);\n",
              "      }\n",
              "      quickchartButtonEl.classList.remove('colab-df-spinner');\n",
              "      quickchartButtonEl.classList.add('colab-df-quickchart-complete');\n",
              "    }\n",
              "    (() => {\n",
              "      let quickchartButtonEl =\n",
              "        document.querySelector('#df-5b9295e4-cfa4-4dbd-b728-2d6a14d256cf button');\n",
              "      quickchartButtonEl.style.display =\n",
              "        google.colab.kernel.accessAllowed ? 'block' : 'none';\n",
              "    })();\n",
              "  </script>\n",
              "</div>\n",
              "    </div>\n",
              "  </div>\n"
            ]
          },
          "metadata": {},
          "execution_count": 15
        }
      ]
    },
    {
      "cell_type": "code",
      "source": [
        "x_dummy=data.drop(columns='Class', axis=1)\n",
        "y=data['Class']"
      ],
      "metadata": {
        "id": "CqKqkUY1Zugr"
      },
      "execution_count": 16,
      "outputs": []
    },
    {
      "cell_type": "markdown",
      "source": [
        "# STANDARD SCALER"
      ],
      "metadata": {
        "id": "48eLekq5bqHd"
      }
    },
    {
      "cell_type": "code",
      "source": [
        "scaler=StandardScaler()\n",
        "x=scaler.fit_transform(x_dummy)"
      ],
      "metadata": {
        "id": "Ghi5aqMnbpeN"
      },
      "execution_count": 17,
      "outputs": []
    },
    {
      "cell_type": "code",
      "source": [
        "x_train, x_test, y_train, y_test=train_test_split(x,y, test_size=0.20, random_state=123)\n",
        "print(f'x_train{x_train.shape}\\n, x_test{x_test.shape}\\n, y_train{y_train.shape}\\n, y_test{y_test.shape}')"
      ],
      "metadata": {
        "colab": {
          "base_uri": "https://localhost:8080/",
          "height": 0
        },
        "id": "frpOL5FLZ4ui",
        "outputId": "43330a65-b046-4fc6-f021-4ed48bf411c0"
      },
      "execution_count": 18,
      "outputs": [
        {
          "output_type": "stream",
          "name": "stdout",
          "text": [
            "x_train(227845, 30)\n",
            ", x_test(56962, 30)\n",
            ", y_train(227845,)\n",
            ", y_test(56962,)\n"
          ]
        }
      ]
    },
    {
      "cell_type": "markdown",
      "source": [
        "#TRAIN AND TEST MODEL"
      ],
      "metadata": {
        "id": "QSL-8YeschqG"
      }
    },
    {
      "cell_type": "markdown",
      "source": [
        "## LOGISTIC REGRESSION"
      ],
      "metadata": {
        "id": "S6wcdzGPMlhH"
      }
    },
    {
      "cell_type": "code",
      "source": [
        "def logic_regression(x_train, y_train, x_test):\n",
        "  lr=LogisticRegression()\n",
        "  lr.fit(x_train, y_train)\n",
        "  y_train_pred=lr.predict(x_train)\n",
        "  y_train_cl_report=classification_report(y_train, y_train_pred, target_names = ['No Fraud', 'Fraud'])\n",
        "  print(\"_\"*100)\n",
        "  print(\"TRAIN MODEL CLASSIFICATION REPORT\")\n",
        "  print(\"_\"*100)\n",
        "  print(y_train_cl_report)\n",
        "  y_test_pred=lr.predict(x_test)\n",
        "  y_test_cl_report=classification_report(y_test, y_test_pred, target_names = ['No Fraud', 'Fraud'])\n",
        "  print(\"_\"*100)\n",
        "  print(\"TEST MODEL CLASSIFICATION REPORT\")\n",
        "  print(\"_\"*100)\n",
        "  print(y_test_cl_report)\n",
        "  print(\"_\"*100)\n",
        "  return y_test_pred, lr"
      ],
      "metadata": {
        "id": "R3eSZp91-E7W"
      },
      "execution_count": 19,
      "outputs": []
    },
    {
      "cell_type": "code",
      "source": [
        "y_test_pred, lr= logic_regression(x_train, y_train, x_test)"
      ],
      "metadata": {
        "colab": {
          "base_uri": "https://localhost:8080/",
          "height": 0
        },
        "id": "4a6HBFNj-lrd",
        "outputId": "acfd48d6-a9fc-426e-cda3-da8375f85475"
      },
      "execution_count": 20,
      "outputs": [
        {
          "output_type": "stream",
          "name": "stdout",
          "text": [
            "____________________________________________________________________________________________________\n",
            "TRAIN MODEL CLASSIFICATION REPORT\n",
            "____________________________________________________________________________________________________\n",
            "              precision    recall  f1-score   support\n",
            "\n",
            "    No Fraud       1.00      1.00      1.00    227468\n",
            "       Fraud       0.89      0.63      0.74       377\n",
            "\n",
            "    accuracy                           1.00    227845\n",
            "   macro avg       0.94      0.81      0.87    227845\n",
            "weighted avg       1.00      1.00      1.00    227845\n",
            "\n",
            "____________________________________________________________________________________________________\n",
            "TEST MODEL CLASSIFICATION REPORT\n",
            "____________________________________________________________________________________________________\n",
            "              precision    recall  f1-score   support\n",
            "\n",
            "    No Fraud       1.00      1.00      1.00     56847\n",
            "       Fraud       0.83      0.61      0.70       115\n",
            "\n",
            "    accuracy                           1.00     56962\n",
            "   macro avg       0.92      0.80      0.85     56962\n",
            "weighted avg       1.00      1.00      1.00     56962\n",
            "\n",
            "____________________________________________________________________________________________________\n"
          ]
        }
      ]
    },
    {
      "cell_type": "markdown",
      "source": [
        "- From the Above precision Recall and F1-Score we are confirmed that our data is not overfit or underfit\n",
        "- Accuracy is getting 1 that we can uderstand because of large legit transations the results are showing as 1\n",
        "- we are consantrating on Fraud Transactions"
      ],
      "metadata": {
        "id": "nWpok7Ecc1X1"
      }
    },
    {
      "cell_type": "markdown",
      "source": [
        "![image.png](data:image/png;base64,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)\n"
      ],
      "metadata": {
        "id": "EDd0r92vwiz6"
      }
    },
    {
      "cell_type": "code",
      "source": [
        "def conf_mat(y_test, y_test_pred):\n",
        "  con_mat=confusion_matrix(y_test, y_test_pred)\n",
        "  labels = ['No Fraud', 'Fraud']\n",
        "  sns.heatmap(con_mat, annot=True, fmt='d', xticklabels=labels, yticklabels=labels)\n",
        "  plt.xlabel('Predicted')\n",
        "  plt.ylabel('Actual')\n",
        "  plt.show()"
      ],
      "metadata": {
        "id": "-VvxBpG5_e-u"
      },
      "execution_count": 21,
      "outputs": []
    },
    {
      "cell_type": "code",
      "source": [
        "conf_mat(y_test, y_test_pred)"
      ],
      "metadata": {
        "colab": {
          "base_uri": "https://localhost:8080/",
          "height": 449
        },
        "id": "8V1ZkUzT_rGr",
        "outputId": "4e09c957-acb0-49c5-af41-9d477d09827a"
      },
      "execution_count": 22,
      "outputs": [
        {
          "output_type": "display_data",
          "data": {
            "text/plain": [
              "<Figure size 640x480 with 2 Axes>"
            ],
            "image/png": "[encoded data removed]"
          },
          "metadata": {}
        }
      ]
    },
    {
      "cell_type": "markdown",
      "source": [
        "# KNEIGHBORS CLASSIFICATION MODEL"
      ],
      "metadata": {
        "id": "aboQbjlVNgDn"
      }
    },
    {
      "cell_type": "code",
      "source": [
        "def KNeighbors(x_train, y_train, x_test):\n",
        "  Kneib=KNeighborsClassifier(n_neighbors=4)\n",
        "  Kneib.fit(x_train, y_train)\n",
        "  y_train_pred=Kneib.predict(x_train)\n",
        "  y_train_cl_report=classification_report(y_train, y_train_pred, target_names = ['No Fraud', 'Fraud'])\n",
        "  print(\"_\"*50)\n",
        "  print(\"TRAIN MODEL CLASSIFICATION REPORT\")\n",
        "  print(\"_\"*50)\n",
        "  print(y_train_cl_report)\n",
        "  y_test_pred=Kneib.predict(x_test)\n",
        "  y_test_cl_report=classification_report(y_test, y_test_pred, target_names = ['No Fraud', 'Fraud'])\n",
        "  print(\"_\"*50)\n",
        "  print(\"TEST MODEL CLASSIFICATION REPORT\")\n",
        "  print(\"_\"*50)\n",
        "  print(y_test_cl_report)\n",
        "  print(\"_\"*50)\n",
        "  return y_test_pred,Kneib"
      ],
      "metadata": {
        "id": "0hqt50YLNfCg"
      },
      "execution_count": 23,
      "outputs": []
    },
    {
      "cell_type": "code",
      "source": [
        "y_test_pred, Kneib=KNeighbors(x_train, y_train, x_test)"
      ],
      "metadata": {
        "id": "0-m9J5zyOE3b",
        "colab": {
          "base_uri": "https://localhost:8080/",
          "height": 0
        },
        "outputId": "6055f5a9-8224-4d49-8399-8b818a2c465a"
      },
      "execution_count": 24,
      "outputs": [
        {
          "output_type": "stream",
          "name": "stdout",
          "text": [
            "__________________________________________________\n",
            "TRAIN MODEL CLASSIFICATION REPORT\n",
            "__________________________________________________\n",
            "              precision    recall  f1-score   support\n",
            "\n",
            "    No Fraud       1.00      1.00      1.00    227468\n",
            "       Fraud       0.97      0.79      0.87       377\n",
            "\n",
            "    accuracy                           1.00    227845\n",
            "   macro avg       0.99      0.89      0.93    227845\n",
            "weighted avg       1.00      1.00      1.00    227845\n",
            "\n",
            "__________________________________________________\n",
            "TEST MODEL CLASSIFICATION REPORT\n",
            "__________________________________________________\n",
            "              precision    recall  f1-score   support\n",
            "\n",
            "    No Fraud       1.00      1.00      1.00     56847\n",
            "       Fraud       0.95      0.78      0.86       115\n",
            "\n",
            "    accuracy                           1.00     56962\n",
            "   macro avg       0.97      0.89      0.93     56962\n",
            "weighted avg       1.00      1.00      1.00     56962\n",
            "\n",
            "__________________________________________________\n"
          ]
        }
      ]
    },
    {
      "cell_type": "markdown",
      "source": [
        "#### the model performs exceptionally well in identifying \"No Fraud\" instances,achieving perfect precision and recall. However, for the \"Fraud\" class, there is room for improvement, especially in terms of recall, as it correctly identifies only 78% of actual fraud cases."
      ],
      "metadata": {
        "id": "7xJLH8NN7oL5"
      }
    },
    {
      "cell_type": "markdown",
      "source": [
        "# ROC Curve and Optimal Thresholds for Logistic Regression and K-Neighbors Models\n"
      ],
      "metadata": {
        "id": "g6g812rJ71ZZ"
      }
    },
    {
      "cell_type": "code",
      "source": [
        "lr_prob=lr.predict_proba(x_test)\n",
        "KNeib_prob=Kneib.predict_proba(x_test)\n",
        "fpr1, tpr1, thresh1=roc_curve(y_test, lr_prob[:,1], pos_label=1)\n",
        "fpr2, tpr2, thresh2=roc_curve(y_test, KNeib_prob[:,1], pos_label=1)\n",
        "\n",
        "optimal_thres_lr=thresh1[np.argmax(tpr1 - fpr1)]\n",
        "optimal_thres_KNeib=thresh2[np.argmax(tpr2 - fpr2)]\n",
        "# roc curve for tpr = fpr\n",
        "random_probs = [0 for i in range(len(y_test))]\n",
        "p_fpr, p_tpr, _ = roc_curve(y_test, random_probs, pos_label=1)\n",
        "print(f\" optimal_thres_lr\\t {optimal_thres_lr} \\n optimal_thres_KNeib\\t{optimal_thres_KNeib}\")"
      ],
      "metadata": {
        "colab": {
          "base_uri": "https://localhost:8080/",
          "height": 0
        },
        "id": "gjdlmEB1b6J2",
        "outputId": "c8e010f0-95d2-493b-f1cf-d441e9836efc"
      },
      "execution_count": 25,
      "outputs": [
        {
          "output_type": "stream",
          "name": "stdout",
          "text": [
            " optimal_thres_lr\t 0.007890862084915292 \n",
            " optimal_thres_KNeib\t0.25\n"
          ]
        }
      ]
    },
    {
      "cell_type": "code",
      "source": [
        "opt={'Logistic Regression':optimal_thres_lr,'KNeighbors Classification':optimal_thres_KNeib}\n",
        "for model, thresh in opt.items():\n",
        "  if model == 'Logistic Regression':\n",
        "    y_test_pred_adj=lr.predict_proba(x_test)[:,1]\n",
        "  elif model =='KNeighbors Classification':\n",
        "    y_test_pred_adj=Kneib.predict_proba(x_test)[:,1]\n",
        "\n",
        "  y_test_pred_adj1 = (y_test_pred_adj >= thresh).astype(int)\n",
        "  ac_score = accuracy_score(y_test, y_test_pred_adj1)\n",
        "  ROC_AC=roc_auc_score(y_test, y_test_pred_adj1)\n",
        "\n",
        "  print(\"_\" * 50)\n",
        "  print(f\"Model: {model}\")\n",
        "  print(f\"Threshold: {thresh}\")\n",
        "  print(f\"Accuracy Score: {ac_score}\")\n",
        "  print(f\"ROC Accuracy Score: {ROC_AC}\")\n",
        "  print(\"_\" * 50)\n",
        "\n",
        "  y_test_cl_report_adj = classification_report(y_test, y_test_pred_adj1, target_names=['No Fraud', 'Fraud'])\n",
        "  print(\"_\" * 50)\n",
        "  print(\"Classification Report:\")\n",
        "  print(y_test_cl_report_adj)\n",
        "  print(\"_\" * 50)"
      ],
      "metadata": {
        "colab": {
          "base_uri": "https://localhost:8080/",
          "height": 0
        },
        "id": "4CKqQk4Wfypv",
        "outputId": "a319ceab-bdc4-465b-a7ad-8dcd3444db7e"
      },
      "execution_count": 26,
      "outputs": [
        {
          "output_type": "stream",
          "name": "stdout",
          "text": [
            "__________________________________________________\n",
            "Model: Logistic Regression\n",
            "Threshold: 0.007890862084915292\n",
            "Accuracy Score: 0.9960675538078017\n",
            "ROC Accuracy Score: 0.945961432709156\n",
            "__________________________________________________\n",
            "__________________________________________________\n",
            "Classification Report:\n",
            "              precision    recall  f1-score   support\n",
            "\n",
            "    No Fraud       1.00      1.00      1.00     56847\n",
            "       Fraud       0.33      0.90      0.48       115\n",
            "\n",
            "    accuracy                           1.00     56962\n",
            "   macro avg       0.66      0.95      0.74     56962\n",
            "weighted avg       1.00      1.00      1.00     56962\n",
            "\n",
            "__________________________________________________\n",
            "__________________________________________________\n",
            "Model: KNeighbors Classification\n",
            "Threshold: 0.25\n",
            "Accuracy Score: 0.9985955549313578\n",
            "ROC Accuracy Score: 0.9298718681189247\n",
            "__________________________________________________\n",
            "__________________________________________________\n",
            "Classification Report:\n",
            "              precision    recall  f1-score   support\n",
            "\n",
            "    No Fraud       1.00      1.00      1.00     56847\n",
            "       Fraud       0.61      0.86      0.71       115\n",
            "\n",
            "    accuracy                           1.00     56962\n",
            "   macro avg       0.80      0.93      0.86     56962\n",
            "weighted avg       1.00      1.00      1.00     56962\n",
            "\n",
            "__________________________________________________\n"
          ]
        }
      ]
    },
    {
      "cell_type": "markdown",
      "source": [
        "## RESULT UNDERSTANDING\n",
        "* The model is highly accurate overall but has room for improvement in precision for the \"Fraud\" class.\n",
        "* The chosen threshold of 0.25 results in a trade-off between precision and recall.\n",
        "* Depending on the specific requirements and priorities, you might want to adjust the threshold to optimize for precision, recall, or another metric."
      ],
      "metadata": {
        "id": "q2QqhriD8i04"
      }
    },
    {
      "cell_type": "code",
      "source": [
        "\n",
        "# plot roc curves\n",
        "plt.plot(fpr1, tpr1, linestyle='--',color='orange', label='Logistic Regression')\n",
        "plt.plot(fpr2, tpr2, linestyle='-',color='green', label='KNN')\n",
        "plt.plot(p_fpr, p_tpr, linestyle='dashdot',color='blue', label='RANDOM')\n",
        "# title\n",
        "plt.title('ROC curve')\n",
        "# x label\n",
        "plt.xlabel('False Positive Rate')\n",
        "# y label\n",
        "plt.ylabel('True Positive rate')\n",
        "\n",
        "plt.legend(loc='best')\n",
        "plt.savefig('ROC',dpi=300)\n",
        "plt.show();"
      ],
      "metadata": {
        "colab": {
          "base_uri": "https://localhost:8080/",
          "height": 472
        },
        "id": "AcXx5xSNYUpP",
        "outputId": "d986b332-33cf-4406-c668-6679f3b7694d"
      },
      "execution_count": 27,
      "outputs": [
        {
          "output_type": "display_data",
          "data": {
            "text/plain": [
              "<Figure size 640x480 with 1 Axes>"
            ],
            "image/png": "[encoded data removed]"
          },
          "metadata": {}
        }
      ]
    },
    {
      "cell_type": "markdown",
      "source": [
        "* The ROC curves compare the performance of Logistic Regression, K-Neighbors (KNN), and a Random Classifier.\n",
        "* Logistic Regression and K-Neighbors outperform the random classifier in distinguishing between classes.\n",
        "* The area under the ROC curve (AUC) provides a quantitative measure of the model's discriminative ability.\n",
        "* Consider the trade-off between false positives and true positives when selecting a model or threshold."
      ],
      "metadata": {
        "id": "z5vg_QdA9DMC"
      }
    },
    {
      "cell_type": "markdown",
      "source": [
        "# RESAMPLING TECHNIQUES"
      ],
      "metadata": {
        "id": "nq-Y6E1Yxhdl"
      }
    },
    {
      "cell_type": "code",
      "source": [
        "data['Class'].value_counts()"
      ],
      "metadata": {
        "colab": {
          "base_uri": "https://localhost:8080/",
          "height": 0
        },
        "id": "gBO_Lf2Iyico",
        "outputId": "e6989849-6b89-49b1-e803-da02f5d5a2f0"
      },
      "execution_count": 28,
      "outputs": [
        {
          "output_type": "execute_result",
          "data": {
            "text/plain": [
              "0    284315\n",
              "1       492\n",
              "Name: Class, dtype: int64"
            ]
          },
          "metadata": {},
          "execution_count": 28
        }
      ]
    },
    {
      "cell_type": "markdown",
      "source": [
        "- Data is not balanced if you see 0 legit transactions are 284315, where as fraud transations are 492\n",
        "- so we are using the Resampling Technique"
      ],
      "metadata": {
        "id": "oFjyRnGjy5qc"
      }
    },
    {
      "cell_type": "markdown",
      "source": [
        "## Under-sampling the Majority Class:\n",
        "- Randomly remove instances from the majority class to balance the class distribution.\n",
        "- Be cautious not to remove too much data, as it may result in information loss.\n",
        "- Created the 2 dataset based on classifications with equal rows"
      ],
      "metadata": {
        "id": "N1nUkOFtzJSN"
      }
    },
    {
      "cell_type": "code",
      "source": [
        "df_0 = data[data['Class'] == 0].sample(n=492, random_state=42)\n",
        "df_1= data[data['Class'] == 1].sample(n=492, random_state=42)"
      ],
      "metadata": {
        "id": "IT4RcSJwy38y"
      },
      "execution_count": 29,
      "outputs": []
    },
    {
      "cell_type": "code",
      "source": [
        "print(f' Fraud Shape{df_1.shape}\\n No Fraud shape{df_0.shape}')"
      ],
      "metadata": {
        "colab": {
          "base_uri": "https://localhost:8080/",
          "height": 0
        },
        "id": "jeidV2fo0mxE",
        "outputId": "47d29cb6-a3ea-4868-ef49-350a800e4699"
      },
      "execution_count": 30,
      "outputs": [
        {
          "output_type": "stream",
          "name": "stdout",
          "text": [
            " Fraud Shape(492, 31)\n",
            " No Fraud shape(492, 31)\n"
          ]
        }
      ]
    },
    {
      "cell_type": "code",
      "source": [
        "df_concat=pd.concat([df_0,df_1], ignore_index=True)"
      ],
      "metadata": {
        "id": "cBh-PH4L2Kxn"
      },
      "execution_count": 31,
      "outputs": []
    },
    {
      "cell_type": "markdown",
      "source": [
        "## DATSET IS READY"
      ],
      "metadata": {
        "id": "JLK86iBm2sG5"
      }
    },
    {
      "cell_type": "code",
      "source": [
        "df_concat.shape"
      ],
      "metadata": {
        "colab": {
          "base_uri": "https://localhost:8080/",
          "height": 0
        },
        "id": "sL4_uOOM2lbc",
        "outputId": "ff7adcaf-15ec-4e5d-813b-30955d641bbe"
      },
      "execution_count": 32,
      "outputs": [
        {
          "output_type": "execute_result",
          "data": {
            "text/plain": [
              "(984, 31)"
            ]
          },
          "metadata": {},
          "execution_count": 32
        }
      ]
    },
    {
      "cell_type": "markdown",
      "source": [
        "# BALANCE DATASET TRAIN TEST SPLIT"
      ],
      "metadata": {
        "id": "bvFVbcrHDwtZ"
      }
    },
    {
      "cell_type": "code",
      "source": [
        "x_bal_dummy=df_concat.drop('Class', axis=1)\n",
        "y_bal=df_concat['Class']\n",
        "print(x_bal_dummy.shape, '\\n', y_bal.shape)"
      ],
      "metadata": {
        "colab": {
          "base_uri": "https://localhost:8080/",
          "height": 0
        },
        "id": "e_Uv_3-5Dtsb",
        "outputId": "b3e426e8-4df0-456a-8c64-1683f2ef8037"
      },
      "execution_count": 33,
      "outputs": [
        {
          "output_type": "stream",
          "name": "stdout",
          "text": [
            "(984, 30) \n",
            " (984,)\n"
          ]
        }
      ]
    },
    {
      "cell_type": "code",
      "source": [
        "x_bal=scaler.fit_transform(x_bal_dummy)"
      ],
      "metadata": {
        "id": "693zNPnbEjlq"
      },
      "execution_count": 34,
      "outputs": []
    },
    {
      "cell_type": "code",
      "source": [
        "x_train_b, x_test_b, y_train_b, y_test_b=train_test_split(x_bal,y_bal, test_size=0.20, random_state=123)\n",
        "print(f'x_train{x_train_b.shape}\\n, x_test{x_test_b.shape}\\n, y_train{y_train_b.shape}\\n, y_test{y_test_b.shape}')"
      ],
      "metadata": {
        "colab": {
          "base_uri": "https://localhost:8080/",
          "height": 0
        },
        "id": "ycVvNU6aE26Q",
        "outputId": "3960f7e4-2500-4365-9ee3-b674f6197f7c"
      },
      "execution_count": 35,
      "outputs": [
        {
          "output_type": "stream",
          "name": "stdout",
          "text": [
            "x_train(787, 30)\n",
            ", x_test(197, 30)\n",
            ", y_train(787,)\n",
            ", y_test(197,)\n"
          ]
        }
      ]
    },
    {
      "cell_type": "markdown",
      "source": [
        "# BALANCE DATASET LOGISTIC REGRESSION"
      ],
      "metadata": {
        "id": "h_wkbBO9FJ2N"
      }
    },
    {
      "cell_type": "code",
      "source": [
        "bal_lr=LogisticRegression()\n",
        "bal_lr.fit(x_train_b,y_train_b)\n",
        "bal_pred_train=bal_lr.predict(x_train_b)\n",
        "bal_pred_test=bal_lr.predict(x_test_b)"
      ],
      "metadata": {
        "id": "naLO6FIVFMpR"
      },
      "execution_count": 40,
      "outputs": []
    },
    {
      "cell_type": "code",
      "source": [
        "bal_cl_report_train=classification_report(y_train_b,bal_pred_train)\n",
        "print(bal_cl_report_train)\n",
        "bal_cl_report_test=classification_report(y_test_b,bal_pred_test)\n",
        "print(bal_cl_report_test)"
      ],
      "metadata": {
        "colab": {
          "base_uri": "https://localhost:8080/",
          "height": 0
        },
        "id": "5rNfa019GBqA",
        "outputId": "0582b1b7-5435-41f0-f670-efa31d0d0c27"
      },
      "execution_count": 43,
      "outputs": [
        {
          "output_type": "stream",
          "name": "stdout",
          "text": [
            "              precision    recall  f1-score   support\n",
            "\n",
            "           0       0.92      0.98      0.95       383\n",
            "           1       0.98      0.92      0.95       404\n",
            "\n",
            "    accuracy                           0.95       787\n",
            "   macro avg       0.95      0.95      0.95       787\n",
            "weighted avg       0.95      0.95      0.95       787\n",
            "\n",
            "              precision    recall  f1-score   support\n",
            "\n",
            "           0       0.94      0.97      0.95       109\n",
            "           1       0.96      0.92      0.94        88\n",
            "\n",
            "    accuracy                           0.95       197\n",
            "   macro avg       0.95      0.95      0.95       197\n",
            "weighted avg       0.95      0.95      0.95       197\n",
            "\n"
          ]
        }
      ]
    },
    {
      "cell_type": "code",
      "source": [
        "conf_mat(y_train_b,bal_pred_train)"
      ],
      "metadata": {
        "colab": {
          "base_uri": "https://localhost:8080/",
          "height": 449
        },
        "id": "_GYSqrs84zdc",
        "outputId": "8d5140a2-795e-49df-97b1-2c671bc14ee0"
      },
      "execution_count": 44,
      "outputs": [
        {
          "output_type": "display_data",
          "data": {
            "text/plain": [
              "<Figure size 640x480 with 2 Axes>"
            ],
            "image/png": "[encoded data removed]"
          },
          "metadata": {}
        }
      ]
    },
    {
      "cell_type": "markdown",
      "source": [
        "# Logistic Regression:\n",
        "\n",
        "- **Precision:**\n",
        "  - Class 0: 0.92 (92%)\n",
        "  - Class 1: 0.98 (98%)\n",
        "\n",
        "- **Recall (Sensitivity):**\n",
        "  - Class 0: 0.98 (98%)\n",
        "  - Class 1: 0.92 (92%)\n",
        "\n",
        "- **F1-score:**\n",
        "  - Class 0: 0.95 (95%)\n",
        "  - Class 1: 0.95 (95%)\n",
        "\n",
        "- **Support:**\n",
        "  - Class 0: 383 instances\n",
        "  - Class 1: 404 instances"
      ],
      "metadata": {
        "id": "NgErN38f9uVV"
      }
    },
    {
      "cell_type": "code",
      "source": [
        "conf_mat(y_test_b,bal_pred_test)"
      ],
      "metadata": {
        "colab": {
          "base_uri": "https://localhost:8080/",
          "height": 449
        },
        "id": "Z0R8N9Ai47MP",
        "outputId": "f7e6e1cb-26bf-45d4-ca13-bf7eb68c1a5e"
      },
      "execution_count": 45,
      "outputs": [
        {
          "output_type": "display_data",
          "data": {
            "text/plain": [
              "<Figure size 640x480 with 2 Axes>"
            ],
            "image/png": "[encoded data removed]"
          },
          "metadata": {}
        }
      ]
    },
    {
      "cell_type": "markdown",
      "source": [
        "# BALANCE DATASET KNEIGHBORS CLASSIFICATION"
      ],
      "metadata": {
        "id": "t4sfGcRz5Ap7"
      }
    },
    {
      "cell_type": "code",
      "source": [
        "knn=KNeighborsClassifier()\n",
        "knn.fit(x_train_b,y_train_b)\n",
        "knn_bal_pred_train=bal_lr.predict(x_train_b)\n",
        "knn_bal_pred_test=bal_lr.predict(x_test_b)\n"
      ],
      "metadata": {
        "id": "qeXqpceV5Kp6"
      },
      "execution_count": 46,
      "outputs": []
    },
    {
      "cell_type": "code",
      "source": [
        "knn_bal_cl_report_train=classification_report(y_train_b,knn_bal_pred_train)\n",
        "print(knn_bal_cl_report_train)\n",
        "knn_bal_cl_report_test=classification_report(y_test_b,knn_bal_pred_test)\n",
        "print(knn_bal_cl_report_test)"
      ],
      "metadata": {
        "colab": {
          "base_uri": "https://localhost:8080/",
          "height": 0
        },
        "id": "ut17AtdL5YQw",
        "outputId": "3f3512de-01a8-4fda-fc50-a5d1eac8ef73"
      },
      "execution_count": 47,
      "outputs": [
        {
          "output_type": "stream",
          "name": "stdout",
          "text": [
            "              precision    recall  f1-score   support\n",
            "\n",
            "           0       0.92      0.98      0.95       383\n",
            "           1       0.98      0.92      0.95       404\n",
            "\n",
            "    accuracy                           0.95       787\n",
            "   macro avg       0.95      0.95      0.95       787\n",
            "weighted avg       0.95      0.95      0.95       787\n",
            "\n",
            "              precision    recall  f1-score   support\n",
            "\n",
            "           0       0.94      0.97      0.95       109\n",
            "           1       0.96      0.92      0.94        88\n",
            "\n",
            "    accuracy                           0.95       197\n",
            "   macro avg       0.95      0.95      0.95       197\n",
            "weighted avg       0.95      0.95      0.95       197\n",
            "\n"
          ]
        }
      ]
    },
    {
      "cell_type": "markdown",
      "source": [
        "# Confusion Matrix for Train and Test"
      ],
      "metadata": {
        "id": "jI2DSFTc95yB"
      }
    },
    {
      "cell_type": "code",
      "source": [
        "conf_mat(y_train_b,knn_bal_pred_train)\n",
        "conf_mat(y_test_b,knn_bal_pred_test)"
      ],
      "metadata": {
        "colab": {
          "base_uri": "https://localhost:8080/",
          "height": 881
        },
        "id": "mWd2lRR695LO",
        "outputId": "030dfe56-b236-4394-dcfc-2fd9ba8b7d55"
      },
      "execution_count": 49,
      "outputs": [
        {
          "output_type": "display_data",
          "data": {
            "text/plain": [
              "<Figure size 640x480 with 2 Axes>"
            ],
            "image/png": "[encoded data removed]"
          },
          "metadata": {}
        },
        {
          "output_type": "display_data",
          "data": {
            "text/plain": [
              "<Figure size 640x480 with 2 Axes>"
            ],
            "image/png": "[encoded data removed]"
          },
          "metadata": {}
        }
      ]
    },
    {
      "cell_type": "markdown",
      "source": [
        "# K-Neighbors:\n",
        "\n",
        "- **Precision:**\n",
        "  - Class 0: 0.92 (92%)\n",
        "  - Class 1: 0.98 (98%)\n",
        "\n",
        "- **Recall (Sensitivity):**\n",
        "  - Class 0: 0.98 (98%)\n",
        "  - Class 1: 0.92 (92%)\n",
        "\n",
        "- **F1-score:**\n",
        "  - Class 0: 0.95 (95%)\n",
        "  - Class 1: 0.95 (95%)\n",
        "\n",
        "- **Support:**\n",
        "  - Class 0: 383 instances\n",
        "  - Class 1: 404 instances\n"
      ],
      "metadata": {
        "id": "HFhMhWGm91Ts"
      }
    },
    {
      "cell_type": "markdown",
      "source": [
        "## Summary:\n",
        "\n",
        "1. Both models (Logistic Regression and K-Neighbors) perform exceptionally well, achieving high precision, recall, and F1-scores for both classes.\n",
        "\n",
        "2. The models show balanced performance in correctly identifying instances of both classes (0 and 1), as indicated by the similarity in precision and recall values.\n",
        "\n",
        "3. The F1-scores for both classes are also high, suggesting a good balance between precision and recall.\n"
      ],
      "metadata": {
        "id": "j_HGil0p-Ors"
      }
    },
    {
      "cell_type": "markdown",
      "source": [
        "## Conclusion:\n",
        "\n",
        "- Both models are effective in handling the classification task with high accuracy and balanced performance across classes.\n",
        "\n",
        "- Depending on the specific requirements of your problem (e.g., the importance of false positives vs. false negatives), you may choose one model over the other based on the balance between precision and recall.\n",
        "\n",
        "- Consider the context of your application and whether certain misclassifications are more costly than others when selecting a final model.\n",
        "\n",
        "- Further analysis, such as feature importance or exploring additional evaluation metrics, could provide additional insights into the model's behavior and help in making a more informed decision."
      ],
      "metadata": {
        "id": "R5Mf8PBg-abg"
      }
    },
    {
      "cell_type": "code",
      "source": [],
      "metadata": {
        "id": "03TrO14b-a9I"
      },
      "execution_count": null,
      "outputs": []
    }
  ]
}